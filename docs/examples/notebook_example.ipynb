{
 "cells": [
  {
   "cell_type": "markdown",
   "metadata": {},
   "source": [
    "# Brazilian REH Analyzer - Jupyter Notebook Example\n",
    "\n",
    "This notebook demonstrates how to use the Brazilian REH Analyzer for interactive analysis of inflation forecast rationality.\n",
    "\n",
    "## Overview\n",
    "\n",
    "The Rational Expectations Hypothesis (REH) states that economic agents form expectations optimally using all available information. This tool tests whether Brazilian Focus Bulletin inflation forecasts satisfy REH properties:\n",
    "\n",
    "1. **Unbiasedness**: Forecast errors have zero mean\n",
    "2. **Efficiency**: Forecast errors are unpredictable (no autocorrelation)\n",
    "3. **Orthogonality**: Forecast errors are uncorrelated with available information\n"
   ]
  },
  {
   "cell_type": "markdown",
   "metadata": {},
   "source": [
    "## Setup and Installation\n",
    "\n",
    "First, make sure you have installed the Brazilian REH Analyzer:\n",
    "\n",
    "```bash\n",
    "pip install brazilian-reh-analyzer\n",
    "# or for development\n",
    "pip install -e .\n",
    "```"
   ]
  },
  {
   "cell_type": "code",
   "execution_count": null,
   "metadata": {},
   "outputs": [],
   "source": [
    "# Import required libraries\n",
    "import pandas as pd\n",
    "import numpy as np\n",
    "import matplotlib.pyplot as plt\n",
    "import seaborn as sns\n",
    "from datetime import datetime\n",
    "import warnings\n",
    "warnings.filterwarnings('ignore')\n",
    "\n",
    "# Import the Brazilian REH Analyzer\n",
    "from brazilian_reh_analyzer import BrazilianREHAnalyzer\n",
    "from brazilian_reh_analyzer.tests import REHTests\n",
    "from brazilian_reh_analyzer.visualizations import REHVisualizations\n",
    "\n",
    "# Set up plotting style\n",
    "plt.style.use('seaborn-v0_8-whitegrid')\n",
    "sns.set_palette(\"husl\")\n",
    "%matplotlib inline\n",
    "\n",
    "print(\"✅ Setup complete!\")"
   ]
  },
  {
   "cell_type": "markdown",
   "metadata": {},
   "source": [
    "## 1. Initialize the Analyzer\n",
    "\n",
    "Let's start by initializing the analyzer for a recent period:"
   ]
  },
  {
   "cell_type": "code",
   "execution_count": null,
   "metadata": {},
   "outputs": [],
   "source": [
    "# Initialize analyzer for recent period\n",
    "analyzer = BrazilianREHAnalyzer(\n",
    "    start_date=\"2020-01-01\",\n",
    "    end_date=\"2024-12-31\",\n",
    "    cache_dir=\"notebook_cache\"\n",
    ")\n",
    "\n",
    "print(f\"Analyzer initialized for period: {analyzer.start_date.date()} to {analyzer.end_date.date()}\")"
   ]
  },
  {
   "cell_type": "markdown",
   "metadata": {},
   "source": [
    "## 2. Fetch and Explore Data\n",
    "\n",
    "Now let's fetch the data from the Brazilian Central Bank APIs. This may take a few moments:"
   ]
  },
  {
   "cell_type": "code",
   "execution_count": null,
   "metadata": {},
   "outputs": [],
   "source": [
    "# Fetch IPCA data (realized inflation)\n",
    "print(\"📊 Fetching IPCA 12-month accumulated data...\")\n",
    "ipca_data = analyzer.fetch_ipca_data()\n",
    "\n",
    "print(f\"✅ Fetched {len(ipca_data)} IPCA observations\")\n",
    "print(f\"   Period: {ipca_data.index.min().date()} to {ipca_data.index.max().date()}\")\n",
    "print(f\"   Mean IPCA: {ipca_data.mean():.2f}%\")\n",
    "print(f\"   IPCA range: {ipca_data.min():.2f}% to {ipca_data.max():.2f}%\")"
   ]
  },
  {
   "cell_type": "code",
   "execution_count": null,
   "metadata": {},
   "outputs": [],
   "source": [
    "# Fetch Focus Bulletin data (forecasts)\n",
    "print(\"📈 Fetching Focus Bulletin expectations data...\")\n",
    "focus_data = analyzer.fetch_focus_data()\n",
    "\n",
    "print(f\"✅ Fetched {len(focus_data)} Focus observations\")\n",
    "print(f\"   Period: {focus_data.index.min().date()} to {focus_data.index.max().date()}\")\n",
    "print(f\"   Mean forecast: {focus_data['Mediana'].mean():.2f}%\")\n",
    "print(f\"   Average respondents: {focus_data['numeroRespondentes'].mean():.1f}\")\n",
    "\n",
    "# Display first few rows\n",
    "print(\"\\n📋 Sample Focus data:\")\n",
    "display(focus_data.head())"
   ]
  },
  {
   "cell_type": "markdown",
   "metadata": {},
   "source": [
    "## 3. Align Forecasts with Realizations\n",
    "\n",
    "The key challenge is properly aligning 12-month ahead forecasts with their corresponding realizations:"
   ]
  },
  {
   "cell_type": "code",
   "execution_count": null,
   "metadata": {},
   "outputs": [],
   "source": [
    "# Align forecast and realization data\n",
    "print(\"🔄 Aligning forecast and realization data...\")\n",
    "aligned_data = analyzer.align_forecast_realization_data()\n",
    "\n",
    "print(f\"✅ Successfully aligned {len(aligned_data)} forecast-realization pairs\")\n",
    "print(f\"   Analysis period: {aligned_data.index.min().date()} to {aligned_data.index.max().date()}\")\n",
    "\n",
    "# Display sample aligned data\n",
    "print(\"\\n📋 Sample aligned data:\")\n",
    "display(aligned_data.head(10))\n",
    "\n",
    "# Basic statistics\n",
    "print(\"\\n📊 Basic Statistics:\")\n",
    "print(f\"   Mean forecast error: {aligned_data['forecast_error'].mean():.3f} p.p.\")\n",
    "print(f\"   Std forecast error: {aligned_data['forecast_error'].std():.3f} p.p.\")\n",
    "print(f\"   Correlation (forecast, realized): {aligned_data['forecast'].corr(aligned_data['realized']):.3f}\")"
   ]
  },
  {
   "cell_type": "markdown",
   "metadata": {},
   "source": [
    "## 4. Initial Data Visualization\n",
    "\n",
    "Let's create some initial plots to understand the data:"
   ]
  },
  {
   "cell_type": "code",
   "execution_count": null,
   "metadata": {},
   "outputs": [],
   "source": [
    "# Create initial visualization\n",
    "fig, axes = plt.subplots(2, 2, figsize=(15, 10))\n",
    "\n",
    "# Forecast vs Realized scatter\n",
    "axes[0, 0].scatter(aligned_data['forecast'], aligned_data['realized'], alpha=0.6, s=50)\n",
    "min_val = min(aligned_data['forecast'].min(), aligned_data['realized'].min())\n",
    "max_val = max(aligned_data['forecast'].max(), aligned_data['realized'].max())\n",
    "axes[0, 0].plot([min_val, max_val], [min_val, max_val], 'r--', alpha=0.8, label='Perfect Forecast')\n",
    "axes[0, 0].set_xlabel('Focus Forecast (%)')\n",
    "axes[0, 0].set_ylabel('Realized IPCA (%)')\n",
    "axes[0, 0].set_title('Forecast vs Realization')\n",
    "axes[0, 0].legend()\n",
    "axes[0, 0].grid(True, alpha=0.3)\n",
    "\n",
    "# Time series\n",
    "axes[0, 1].plot(aligned_data.index, aligned_data['forecast'], label='Forecast', alpha=0.8, linewidth=2)\n",
    "axes[0, 1].plot(aligned_data.index, aligned_data['realized'], label='Realized', alpha=0.8, linewidth=2)\n",
    "axes[0, 1].set_ylabel('IPCA 12-month (%)')\n",
    "axes[0, 1].set_title('Forecasts and Realizations Over Time')\n",
    "axes[0, 1].legend()\n",
    "axes[0, 1].grid(True, alpha=0.3)\n",
    "axes[0, 1].tick_params(axis='x', rotation=45)\n",
    "\n",
    "# Forecast errors\n",
    "errors = aligned_data['forecast_error']\n",
    "axes[1, 0].plot(errors.index, errors.values, color='red', alpha=0.7, linewidth=1.5)\n",
    "axes[1, 0].axhline(y=0, color='black', linestyle='--', alpha=0.7)\n",
    "axes[1, 0].axhline(y=errors.mean(), color='green', linestyle=':', alpha=0.8, \n",
    "                   label=f'Mean: {errors.mean():.3f} p.p.')\n",
    "axes[1, 0].set_ylabel('Forecast Error (p.p.)')\n",
    "axes[1, 0].set_title('Forecast Errors Over Time')\n",
    "axes[1, 0].legend()\n",
    "axes[1, 0].grid(True, alpha=0.3)\n",
    "axes[1, 0].tick_params(axis='x', rotation=45)\n",
    "\n",
    "# Error distribution\n",
    "axes[1, 1].hist(errors, bins=20, alpha=0.7, density=True, color='lightcoral', edgecolor='black')\n",
    "axes[1, 1].axvline(x=0, color='red', linestyle='--', alpha=0.8, label='Zero Error')\n",
    "axes[1, 1].axvline(x=errors.mean(), color='green', linestyle=':', alpha=0.8, \n",
    "                   label=f'Mean: {errors.mean():.3f}')\n",
    "axes[1, 1].set_xlabel('Forecast Error (p.p.)')\n",
    "axes[1, 1].set_ylabel('Density')\n",
    "axes[1, 1].set_title('Distribution of Forecast Errors')\n",
    "axes[1, 1].legend()\n",
    "axes[1, 1].grid(True, alpha=0.3)\n",
    "\n",
    "plt.tight_layout()\n",
    "plt.show()"
   ]
  },
  {
   "cell_type": "markdown",
   "metadata": {},
   "source": [
    "## 5. Run Individual Econometric Tests\n",
    "\n",
    "Now let's run the individual REH tests to understand forecast rationality:"
   ]
  },
  {
   "cell_type": "code",
   "execution_count": null,
   "metadata": {},
   "outputs": [],
   "source": [
    "# 5.1 Mincer-Zarnowitz Test\n",
    "print(\"1️⃣ MINCER-ZARNOWITZ TEST\")\n",
    "print(\"=\" * 40)\n",
    "print(\"Tests: H₀: (α, β) = (0, 1) in regression: Realized = α + β × Forecast\")\n",
    "print()\n",
    "\n",
    "mz_results = REHTests.mincer_zarnowitz_test(\n",
    "    aligned_data['forecast'], \n",
    "    aligned_data['realized']\n",
    ")\n",
    "\n",
    "if 'error' not in mz_results:\n",
    "    print(f\"📊 Regression Results:\")\n",
    "    print(f\"   α (intercept): {mz_results['alpha']:.4f} (SE: {mz_results['alpha_stderr']:.4f})\")\n",
    "    print(f\"   β (slope): {mz_results['beta']:.4f} (SE: {mz_results['beta_stderr']:.4f})\")\n",
    "    print(f\"   R-squared: {mz_results['r_squared']:.4f}\")\n",
    "    print(f\"\")\n",
    "    print(f\"🧪 Test Results:\")\n",
    "    print(f\"   α = 0 test p-value: {mz_results['alpha_pvalue']:.4f}\")\n",
    "    print(f\"   β = 1 test p-value: {mz_results['beta_pvalue']:.4f}\")\n",
    "    print(f\"   Joint test p-value: {mz_results['joint_test_pvalue']:.4f}\")\n",
    "    print(f\"\")\n",
    "    print(f\"🎯 Result: {'✅ RATIONAL' if mz_results['passes_joint_test'] else '❌ NOT RATIONAL'}\")\n",
    "    \n",
    "    if mz_results['joint_test_pvalue'] < 0.05:\n",
    "        print(f\"   📝 Forecasts violate unbiasedness/efficiency (reject H₀)\")\n",
    "    else:\n",
    "        print(f\"   📝 Forecasts are unbiased and efficient\")\nelse:\n",
    "    print(f\"❌ Test failed: {mz_results['error']}\")\n",
    "\n",
    "print(\"\\n\" + \"=\"*60 + \"\\n\")"
   ]
  },
  {
   "cell_type": "code",
   "execution_count": null,
   "metadata": {},
   "outputs": [],
   "source": [
    "# 5.2 Autocorrelation Test\n",
    "print(\"2️⃣ AUTOCORRELATION TEST (Ljung-Box)\")\n",
    "print(\"=\" * 50)\n",
    "print(\"Tests: H₀: No autocorrelation in forecast errors\")\n",
    "print()\n",
    "\n",
    "autocorr_results = REHTests.autocorrelation_test(\n",
    "    aligned_data['forecast_error'], \n",
    "    max_lags=10\n",
    ")\n",
    "\n",
    "if 'error' not in autocorr_results:\n",
    "    print(f\"🧪 Test Results:\")\n",
    "    print(f\"   Ljung-Box statistic: {autocorr_results['ljung_box_stat']:.4f}\")\n",
    "    print(f\"   p-value: {autocorr_results['ljung_box_pvalue']:.4f}\")\n",
    "    print(f\"   Lags tested: {autocorr_results['max_lags_tested']}\")\n",
    "    print(f\"   Observations: {autocorr_results['n_observations']}\")\n",
    "    print(f\"\")\n",
    "    print(f\"🎯 Result: {'✅ EFFICIENT' if autocorr_results['passes_efficiency_test'] else '❌ NOT EFFICIENT'}\")\n",
    "    \n",
    "    if autocorr_results['significant_autocorr']:\n",
    "        print(f\"   📝 Significant autocorrelation detected in forecast errors\")\n",
    "    else:\n",
    "        print(f\"   📝 No significant autocorrelation in forecast errors\")\n",
    "else:\n",
    "    print(f\"❌ Test failed: {autocorr_results['error']}\")\n",
    "\n",
    "print(\"\\n\" + \"=\"*60 + \"\\n\")"
   ]
  },
  {
   "cell_type": "code",
   "execution_count": null,
   "metadata": {},
   "outputs": [],
   "source": [
    "# 5.3 Bias Test\n",
    "print(\"3️⃣ BIAS TEST (Holden-Peel)\")\n",
    "print(\"=\" * 40)\n",
    "print(\"Tests: H₀: Mean forecast error = 0\")\n",
    "print()\n",
    "\n",
    "bias_results = REHTests.bias_test(aligned_data['forecast_error'])\n",
    "\n",
    "if 'error' not in bias_results:\n",
    "    print(f\"🧪 Test Results:\")\n",
    "    print(f\"   Mean forecast error: {bias_results['mean_error']:.4f} p.p.\")\n",
    "    print(f\"   Standard error: {bias_results['std_error']:.4f} p.p.\")\n",
    "    print(f\"   t-statistic: {bias_results['t_statistic']:.4f}\")\n",
    "    print(f\"   p-value: {bias_results['p_value']:.4f}\")\n",
    "    print(f\"   95% Confidence Interval: [{bias_results['confidence_interval_95'][0]:.4f}, {bias_results['confidence_interval_95'][1]:.4f}]\")\n",
    "    print(f\"\")\n",
    "    print(f\"🎯 Result: {'✅ UNBIASED' if bias_results['passes_unbiasedness_test'] else '❌ BIASED'}\")\n",
    "    \n",
    "    if bias_results['is_biased']:\n",
    "        print(f\"   📝 Systematic {bias_results['bias_direction']} detected\")\n",
    "    else:\n",
    "        print(f\"   📝 No systematic bias in forecasts\")\nelse:\n",
    "    print(f\"❌ Test failed: {bias_results['error']}\")\n",
    "\n",
    "print(\"\\n\" + \"=\"*60 + \"\\n\")"
   ]
  },
  {
   "cell_type": "markdown",
   "metadata": {},
   "source": [
    "## 6. Comprehensive Analysis\n",
    "\n",
    "Now let's run the complete analysis suite and get the overall rationality assessment:"
   ]
  },
  {
   "cell_type": "code",
   "execution_count": null,
   "metadata": {},
   "outputs": [],
   "source": [
    "# Run comprehensive analysis\n",
    "print(\"🔄 Running comprehensive REH analysis...\")\n",
    "\n",
    "results = analyzer.comprehensive_analysis(fetch_data=False)  # Data already fetched\n",
    "\n",
    "print(\"✅ Analysis completed!\")\n",
    "print(\"\\n\" + \"=\"*60)\n",
    "print(\"📋 COMPREHENSIVE RESULTS SUMMARY\")\n",
    "print(\"=\"*60)\n",
    "\n",
    "# Display descriptive statistics\n",
    "desc_stats = results['descriptive_stats']\n",
    "print(f\"\\n📊 Descriptive Statistics:\")\n",
    "print(f\"   Analysis period: {desc_stats['date_range']}\")\n",
    "print(f\"   Total observations: {desc_stats['n_observations']}\")\n",
    "print(f\"   Mean forecast error: {desc_stats['error_mean']:.4f} p.p.\")\n",
    "print(f\"   Error std deviation: {desc_stats['error_std']:.4f} p.p.\")\n",
    "print(f\"   Error range: {desc_stats['error_min']:.2f} to {desc_stats['error_max']:.2f} p.p.\")\n",
    "print(f\"   Average respondents: {desc_stats['mean_respondents']:.1f}\")\n",
    "\n",
    "# Display rationality assessment\n",
    "rationality = results['rationality_assessment']\n",
    "print(f\"\\n🎯 Rationality Assessment:\")\n",
    "print(f\"   Unbiased: {'✅ PASS' if rationality['unbiased'] else '❌ FAIL'}\")\n",
    "print(f\"   MZ Test: {'✅ PASS' if rationality['mz_rational'] else '❌ FAIL'}\")\n",
    "print(f\"   Efficient: {'✅ PASS' if rationality['efficient'] else '❌ FAIL'}\")\n",
    "print(f\"   \")\n",
    "print(f\"   🏆 OVERALL: {'✅ RATIONAL' if rationality['overall_rational'] else '❌ NOT RATIONAL'}\")\n",
    "\n",
    "# Summary interpretation\n",
    "print(f\"\\n📝 Summary Interpretation:\")\n",
    "if rationality['overall_rational']:\n",
    "    print(f\"   Focus Bulletin forecasts satisfy the Rational Expectations Hypothesis.\")\n",
    "    print(f\"   Forecasts are unbiased, efficient, and pass all standard tests.\")\nelse:\n",
    "    failed_tests = []\n",
    "    if not rationality['unbiased']:\n",
    "        failed_tests.append(\"systematic bias\")\n",
    "    if not rationality['mz_rational']:\n",
    "        failed_tests.append(\"Mincer-Zarnowitz inefficiency\")\n",
    "    if not rationality['efficient']:\n",
    "        failed_tests.append(\"autocorrelation\")\n",
    "    \n",
    "    print(f\"   Focus Bulletin forecasts violate the Rational Expectations Hypothesis.\")\n",
    "    print(f\"   Issues detected: {', '.join(failed_tests)}\")\n",
    "    print(f\"   This suggests forecasters are not using information optimally.\")"
   ]
  },
  {
   "cell_type": "markdown",
   "metadata": {},
   "source": [
    "## 7. Advanced Visualizations\n",
    "\n",
    "Let's create the comprehensive diagnostic plots:"
   ]
  },
  {
   "cell_type": "code",
   "execution_count": null,
   "metadata": {},
   "outputs": [],
   "source": [
    "# Generate comprehensive diagnostic plots\n",
    "print(\"📈 Generating comprehensive diagnostic plots...\")\n",
    "\n",
    "fig = analyzer.plot_enhanced_diagnostics(show_plots=True)\n",
    "\n",
    "print(\"✅ Diagnostic plots generated!\")"
   ]
  },
  {
   "cell_type": "markdown",
   "metadata": {},
   "source": [
    "## 8. Export Results\n",
    "\n",
    "Finally, let's export our results for further use:"
   ]
  },
  {
   "cell_type": "code",
   "execution_count": null,
   "metadata": {},
   "outputs": [],
   "source": [
    "# Export results summary\n",
    "analyzer.export_results_summary(\"notebook_analysis_results.txt\")\n",
    "print(\"💾 Results summary saved to: notebook_analysis_results.txt\")\n",
    "\n",
    "# Export plots\n",
    "analyzer.export_plots(\"notebook_plots/\", dpi=300)\n",
    "print(\"🖼️ Diagnostic plots saved to: notebook_plots/\")\n",
    "\n",
    "# Save aligned data for further analysis\n",
    "analyzer.save_data(\"notebook_aligned_data.csv\")\n",
    "print(\"📋 Aligned data saved to: notebook_aligned_data.csv\")\n",
    "\n",
    "print(\"\\n✅ All results exported successfully!\")"
   ]
  },
  {
   "cell_type": "markdown",
   "metadata": {},
   "source": [
    "## 9. Explore Results Further\n",
    "\n",
    "You can now explore the results in more detail:"
   ]
  },
  {
   "cell_type": "code",
   "execution_count": null,
   "metadata": {},
   "outputs": [],
   "source": [
    "# Access detailed results\n",
    "print(\"🔍 Available result categories:\")\n",
    "for key in results.keys():\n",
    "    print(f\"   • {key}\")\n",
    "\n",
    "print(\"\\n📊 You can explore:\")\n",
    "print(\"   • results['mincer_zarnowitz'] - MZ test details\")\n",
    "print(\"   • results['autocorrelation'] - Ljung-Box test details\")\n",
    "print(\"   • results['bias_test'] - Bias test details\")\n",
    "print(\"   • analyzer.aligned_data - Raw aligned dataset\")\n",
    "print(\"   • analyzer.forecast_errors - Forecast error series\")\n",
    "\n",
    "# Example: Show detailed MZ results\n",
    "if 'mincer_zarnowitz' in results and 'error' not in results['mincer_zarnowitz']:\n",
    "    mz = results['mincer_zarnowitz']\n",
    "    print(\"\\n🔬 Detailed Mincer-Zarnowitz Results:\")\n",
    "    for key, value in mz.items():\n",
    "        if isinstance(value, float):\n",
    "            print(f\"   {key}: {value:.6f}\")\n",
    "        else:\n",
    "            print(f\"   {key}: {value}\")"
   ]
  },
  {
   "cell_type": "markdown",
   "metadata": {},
   "source": [
    "## 10. Next Steps\n",
    "\n",
    "This notebook demonstrated the basic usage of the Brazilian REH Analyzer. For more advanced usage, you can:\n",
    "\n",
    "1. **Analyze different time periods** by changing the `start_date` and `end_date`\n",
    "2. **Add external variables** for orthogonality testing\n",
    "3. **Compare multiple periods** to study structural breaks\n",
    "4. **Create custom visualizations** using the aligned data\n",
    "5. **Export results** in different formats for publication\n",
    "\n",
    "See the other examples in the `docs/examples/` directory for more advanced usage patterns.\n",
    "\n",
    "### Key Takeaways\n",
    "\n",
    "- The Brazilian REH Analyzer provides a comprehensive framework for testing forecast rationality\n",
    "- All standard econometric tests are implemented with proper statistical inference\n",
    "- Data is automatically fetched and cached from Brazilian Central Bank APIs\n",
    "- Results are exportable in multiple formats suitable for academic research\n",
    "\n",
    "Happy analyzing! 🇧🇷📊"
   ]
  }
 ],
 "metadata": {
  "kernelspec": {
   "display_name": "Python 3",
   "language": "python",
   "name": "python3"
  },
  "language_info": {
   "codemirror_mode": {
    "name": "ipython",
    "version": 3
   },
   "file_extension": ".py",
   "mimetype": "text/x-python",
   "name": "python",
   "nbconvert_exporter": "python",
   "pygments_lexer": "ipython3",
   "version": "3.8.0"
  }
 },
 "nbformat": 4,
 "nbformat_minor": 4
}